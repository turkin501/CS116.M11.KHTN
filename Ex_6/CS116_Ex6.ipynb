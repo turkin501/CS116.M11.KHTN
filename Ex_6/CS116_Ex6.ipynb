{
  "nbformat": 4,
  "nbformat_minor": 0,
  "metadata": {
    "colab": {
      "name": "CS116_Ex6.ipynb",
      "provenance": [],
      "collapsed_sections": [],
      "authorship_tag": "ABX9TyPXHRPn3dp6Zirdu/+ZxuQG",
      "include_colab_link": true
    },
    "kernelspec": {
      "name": "python3",
      "display_name": "Python 3"
    },
    "language_info": {
      "name": "python"
    }
  },
  "cells": [
    {
      "cell_type": "markdown",
      "metadata": {
        "id": "view-in-github",
        "colab_type": "text"
      },
      "source": [
        "<a href=\"https://colab.research.google.com/github/turkin501/CS116.M11.KHTN/blob/main/Ex_6/CS116_Ex6.ipynb\" target=\"_parent\"><img src=\"https://colab.research.google.com/assets/colab-badge.svg\" alt=\"Open In Colab\"/></a>"
      ]
    },
    {
      "cell_type": "code",
      "metadata": {
        "id": "s_9nMAsT7FAW"
      },
      "source": [
        "import numpy as np\n",
        "import pandas as pd\n",
        "\n",
        "from sklearn.model_selection import KFold, cross_val_score\n",
        "from sklearn.preprocessing import MinMaxScaler"
      ],
      "execution_count": null,
      "outputs": []
    },
    {
      "cell_type": "code",
      "metadata": {
        "id": "LkVDht1TQC3Y"
      },
      "source": [
        "from sklearn.linear_model import LogisticRegression\n",
        "from sklearn import tree\n",
        "from sklearn.ensemble import RandomForestClassifier\n",
        "from sklearn import svm\n",
        "from sklearn.neighbors import KNeighborsClassifier\n",
        "from sklearn.naive_bayes import GaussianNB"
      ],
      "execution_count": null,
      "outputs": []
    },
    {
      "cell_type": "code",
      "metadata": {
        "id": "eOZtQuq7p-RY"
      },
      "source": [
        "from sklearn.decomposition import PCA"
      ],
      "execution_count": null,
      "outputs": []
    },
    {
      "cell_type": "markdown",
      "metadata": {
        "id": "-h2X7IVOWUSW"
      },
      "source": [
        "# Ads Mạng lưới xã hội "
      ]
    },
    {
      "cell_type": "code",
      "metadata": {
        "id": "ry9I8yfAVoYh",
        "colab": {
          "base_uri": "https://localhost:8080/",
          "height": 204
        },
        "outputId": "271461fa-d0b1-40c2-c8f1-ffe6ee648645"
      },
      "source": [
        "# Load dữ liệu\n",
        "data = pd.read_csv(\"/content/Social_Network_Ads.csv\")\n",
        "data.head()"
      ],
      "execution_count": null,
      "outputs": [
        {
          "output_type": "execute_result",
          "data": {
            "text/html": [
              "<div>\n",
              "<style scoped>\n",
              "    .dataframe tbody tr th:only-of-type {\n",
              "        vertical-align: middle;\n",
              "    }\n",
              "\n",
              "    .dataframe tbody tr th {\n",
              "        vertical-align: top;\n",
              "    }\n",
              "\n",
              "    .dataframe thead th {\n",
              "        text-align: right;\n",
              "    }\n",
              "</style>\n",
              "<table border=\"1\" class=\"dataframe\">\n",
              "  <thead>\n",
              "    <tr style=\"text-align: right;\">\n",
              "      <th></th>\n",
              "      <th>Age</th>\n",
              "      <th>EstimatedSalary</th>\n",
              "      <th>Purchased</th>\n",
              "    </tr>\n",
              "  </thead>\n",
              "  <tbody>\n",
              "    <tr>\n",
              "      <th>0</th>\n",
              "      <td>19</td>\n",
              "      <td>19000</td>\n",
              "      <td>0</td>\n",
              "    </tr>\n",
              "    <tr>\n",
              "      <th>1</th>\n",
              "      <td>35</td>\n",
              "      <td>20000</td>\n",
              "      <td>0</td>\n",
              "    </tr>\n",
              "    <tr>\n",
              "      <th>2</th>\n",
              "      <td>26</td>\n",
              "      <td>43000</td>\n",
              "      <td>0</td>\n",
              "    </tr>\n",
              "    <tr>\n",
              "      <th>3</th>\n",
              "      <td>27</td>\n",
              "      <td>57000</td>\n",
              "      <td>0</td>\n",
              "    </tr>\n",
              "    <tr>\n",
              "      <th>4</th>\n",
              "      <td>19</td>\n",
              "      <td>76000</td>\n",
              "      <td>0</td>\n",
              "    </tr>\n",
              "  </tbody>\n",
              "</table>\n",
              "</div>"
            ],
            "text/plain": [
              "   Age  EstimatedSalary  Purchased\n",
              "0   19            19000          0\n",
              "1   35            20000          0\n",
              "2   26            43000          0\n",
              "3   27            57000          0\n",
              "4   19            76000          0"
            ]
          },
          "metadata": {},
          "execution_count": 4
        }
      ]
    },
    {
      "cell_type": "code",
      "metadata": {
        "id": "pir-jxXyY19V"
      },
      "source": [
        "X = data.iloc[:, :2]\n",
        "y = data.iloc[:, 2]"
      ],
      "execution_count": null,
      "outputs": []
    },
    {
      "cell_type": "code",
      "metadata": {
        "id": "j_NIOwpEAEM0"
      },
      "source": [
        "# models\n",
        "models = ['Logistic Regression', 'Decision Tree', 'KNN Classifier', 'SVM', \n",
        "          'Random Forest', 'Naive Bayes']\n",
        "# scores before pca\n",
        "scores_0 = []   \n",
        "# scores after pca (method 1)\n",
        "scores_1 = []\n",
        "# scores after pca (method 3)\n",
        "scores_2 = []"
      ],
      "execution_count": null,
      "outputs": []
    },
    {
      "cell_type": "code",
      "metadata": {
        "id": "zKxLfKA5G9B_"
      },
      "source": [
        "# preprocessing\n",
        "scaler = MinMaxScaler(feature_range=(0, 1))\n",
        "X = scaler.fit_transform(X)"
      ],
      "execution_count": null,
      "outputs": []
    },
    {
      "cell_type": "code",
      "metadata": {
        "id": "pm-VwQ8iOFb4"
      },
      "source": [
        "# prepare the cross-validation procedure\n",
        "kfold = KFold(n_splits=5, shuffle= False)"
      ],
      "execution_count": null,
      "outputs": []
    },
    {
      "cell_type": "markdown",
      "metadata": {
        "id": "WaMjI8VIWqoZ"
      },
      "source": [
        "### Create and evaluate models"
      ]
    },
    {
      "cell_type": "code",
      "metadata": {
        "id": "SCsTq_CblZS4"
      },
      "source": [
        "# logistic regression\n",
        "logistic_model = LogisticRegression()\n",
        "logistic_score = cross_val_score(logistic_model, X, y, scoring='accuracy', cv=kfold).mean()\n",
        "scores_0.append(logistic_score)"
      ],
      "execution_count": null,
      "outputs": []
    },
    {
      "cell_type": "code",
      "metadata": {
        "id": "V3kAP0FQW4XI"
      },
      "source": [
        "# Decision Tree\n",
        "tree_model = tree.DecisionTreeClassifier()\n",
        "tree_score = cross_val_score(tree_model, X, y, scoring='accuracy', cv=kfold).mean()\n",
        "scores_0.append(tree_score)"
      ],
      "execution_count": null,
      "outputs": []
    },
    {
      "cell_type": "code",
      "metadata": {
        "id": "1_T_vvR2VrGi"
      },
      "source": [
        "# KNN classifier\n",
        "knn_model = KNeighborsClassifier(n_neighbors = 3)\n",
        "knn_score = cross_val_score(knn_model, X, y, scoring='accuracy', cv=kfold).mean()\n",
        "scores_0.append(knn_score)"
      ],
      "execution_count": null,
      "outputs": []
    },
    {
      "cell_type": "code",
      "metadata": {
        "id": "ACkIvcGwXC_c"
      },
      "source": [
        "# SVM\n",
        "svm_model = svm.SVC(kernel='linear',C=1)\n",
        "svm_score = cross_val_score(svm_model, X, y, scoring='accuracy', cv=kfold).mean()\n",
        "scores_0.append(svm_score)"
      ],
      "execution_count": null,
      "outputs": []
    },
    {
      "cell_type": "code",
      "metadata": {
        "id": "fQzuNCsJgxU_"
      },
      "source": [
        "# Random Forest \n",
        "forest_model = RandomForestClassifier(n_estimators = 10)\n",
        "forest_score = cross_val_score(svm_model, X, y, scoring='accuracy', cv=kfold).mean()\n",
        "scores_0.append(forest_score)"
      ],
      "execution_count": null,
      "outputs": []
    },
    {
      "cell_type": "code",
      "metadata": {
        "id": "27-Z5sMChuej"
      },
      "source": [
        "# Naive Bayes\n",
        "NB_model = GaussianNB()\n",
        "NB_score = cross_val_score(NB_model, X, y, scoring='accuracy', cv=kfold).mean()\n",
        "scores_0.append(NB_score)"
      ],
      "execution_count": null,
      "outputs": []
    },
    {
      "cell_type": "markdown",
      "metadata": {
        "id": "4YDw4ai8e9ka"
      },
      "source": [
        "## PCA over all the dataset (Method 1)\n"
      ]
    },
    {
      "cell_type": "code",
      "metadata": {
        "id": "6H9qYEQrfd4u"
      },
      "source": [
        "# preprocessing with pca\n",
        "pca = PCA(n_components=1)\n",
        "pX = pca.fit_transform(X)"
      ],
      "execution_count": null,
      "outputs": []
    },
    {
      "cell_type": "markdown",
      "metadata": {
        "id": "vE-UWL5Hx5xw"
      },
      "source": [
        "### Create and evaluate models"
      ]
    },
    {
      "cell_type": "code",
      "metadata": {
        "id": "mwlIavJZyIwf"
      },
      "source": [
        "# logistic regression\n",
        "logistic_model = LogisticRegression()\n",
        "logistic_score = cross_val_score(logistic_model, pX, y, scoring='accuracy', cv=kfold).mean()\n",
        "scores_1.append(logistic_score)"
      ],
      "execution_count": null,
      "outputs": []
    },
    {
      "cell_type": "code",
      "metadata": {
        "id": "KW31WZPh_H-u"
      },
      "source": [
        "# Decision Tree\n",
        "tree_model = tree.DecisionTreeClassifier()\n",
        "tree_score = cross_val_score(tree_model, pX, y, scoring='accuracy', cv=kfold).mean()\n",
        "scores_1.append(tree_score)"
      ],
      "execution_count": null,
      "outputs": []
    },
    {
      "cell_type": "code",
      "metadata": {
        "id": "fgLJQQNx_Jpa"
      },
      "source": [
        "# KNN classifier\n",
        "knn_model = KNeighborsClassifier(n_neighbors = 3)\n",
        "knn_score = cross_val_score(knn_model, pX, y, scoring='accuracy', cv=kfold).mean()\n",
        "scores_1.append(knn_score)"
      ],
      "execution_count": null,
      "outputs": []
    },
    {
      "cell_type": "code",
      "metadata": {
        "id": "b42jjoIr_LgX"
      },
      "source": [
        "# SVM\n",
        "svm_model = svm.SVC(kernel='linear',C=1)\n",
        "svm_score = cross_val_score(svm_model, pX, y, scoring='accuracy', cv=kfold).mean()\n",
        "scores_1.append(svm_score)"
      ],
      "execution_count": null,
      "outputs": []
    },
    {
      "cell_type": "code",
      "metadata": {
        "id": "MVtlMR8X_aBn"
      },
      "source": [
        "# Random Forest \n",
        "forest_model = RandomForestClassifier(n_estimators = 10)\n",
        "forest_score = cross_val_score(svm_model, pX, y, scoring='accuracy', cv=kfold).mean()\n",
        "scores_1.append(forest_score)"
      ],
      "execution_count": null,
      "outputs": []
    },
    {
      "cell_type": "code",
      "metadata": {
        "id": "0sWZi8HM_aBq"
      },
      "source": [
        "# Naive Bayes\n",
        "NB_model = GaussianNB()\n",
        "NB_score = cross_val_score(NB_model, pX, y, scoring='accuracy', cv=kfold).mean()\n",
        "scores_1.append(NB_score)"
      ],
      "execution_count": null,
      "outputs": []
    },
    {
      "cell_type": "markdown",
      "metadata": {
        "id": "gfIhAA00LhVy"
      },
      "source": [
        "## PCA train and test data separately (Method 3)"
      ]
    },
    {
      "cell_type": "code",
      "metadata": {
        "id": "5L3LhZk8HQt-"
      },
      "source": [
        "from sklearn.metrics import accuracy_score\n",
        "\n",
        "def train_models(X_train, X_test, y_train, y_test):\n",
        "    scores = []\n",
        "\n",
        "    # logistic regression\n",
        "    lr = LogisticRegression()\n",
        "    lr.fit(X_train, y_train)\n",
        "    y_pred = lr.predict(X_test)\n",
        "    scores.append(accuracy_score(y_test, y_pred))\n",
        "\n",
        "    # decision tree\n",
        "    dt = tree.DecisionTreeClassifier()\n",
        "    dt.fit(X_train, y_train)\n",
        "    y_pred = dt.predict(X_test)\n",
        "    scores.append(accuracy_score(y_test, y_pred))\n",
        "\n",
        "    # KNN classifier\n",
        "    knn = KNeighborsClassifier(n_neighbors = 3)\n",
        "    knn.fit(X_train, y_train)\n",
        "    y_pred = knn.predict(X_test)\n",
        "    scores.append(accuracy_score(y_test, y_pred))\n",
        "\n",
        "    # SVM\n",
        "    svc = svm.SVC(kernel='linear', C=1)\n",
        "    svc.fit(X_train, y_train)\n",
        "    y_pred = svc.predict(X_test)\n",
        "    scores.append(accuracy_score(y_test, y_pred))\n",
        "\n",
        "    # random forest\n",
        "    rf = RandomForestClassifier(n_estimators = 10)\n",
        "    rf.fit(X_train, y_train)\n",
        "    y_pred = rf.predict(X_test)\n",
        "    scores.append(accuracy_score(y_test, y_pred))\n",
        "\n",
        "    # naive bayes\n",
        "    nb = GaussianNB()\n",
        "    nb.fit(X_train, y_train)\n",
        "    y_pred = nb.predict(X_test)\n",
        "    scores.append(accuracy_score(y_test, y_pred))\n",
        "\n",
        "    return scores"
      ],
      "execution_count": null,
      "outputs": []
    },
    {
      "cell_type": "code",
      "metadata": {
        "id": "UmyvSJmbu9Db"
      },
      "source": [
        "pca = PCA(n_components=1)\n",
        "\n",
        "scores = [[] for i in range(len(models))]\n",
        "for train_index, test_index in kfold.split(X):\n",
        "    # divide data in correlation with fold\n",
        "    X_train, X_test = X[train_index], X[test_index]\n",
        "    y_train, y_test = y[train_index], y[test_index]\n",
        "\n",
        "    # pca train and test individually\n",
        "    X_train = pca.fit_transform(X_train)\n",
        "    X_test = pca.fit_transform(X_test)\n",
        "\n",
        "    # get model scores for this fold\n",
        "    score = train_models(X_train, X_test, y_train, y_test)\n",
        "\n",
        "    for k, score0 in enumerate(score):\n",
        "        scores[k].append(score0)\n",
        "\n",
        "for score in scores:\n",
        "    scores_2.append(np.mean(score))"
      ],
      "execution_count": null,
      "outputs": []
    },
    {
      "cell_type": "markdown",
      "metadata": {
        "id": "qw9hzrhmFyrm"
      },
      "source": [
        "## Comparisons output"
      ]
    },
    {
      "cell_type": "code",
      "metadata": {
        "id": "bw-_SM0VMnG5"
      },
      "source": [
        "import csv\n",
        "\n",
        "# field names\n",
        "fields = ['Model Name', 'Before PCA', 'After PCA(1)', 'After PCA(3)']\n",
        "\n",
        "# data rows\n",
        "rows = []\n",
        "for k, model in enumerate(models):\n",
        "    row = [model, scores_0[k], scores_1[k], scores_2[k]]\n",
        "    rows.append(row)\n",
        "\n",
        "# name of csv file \n",
        "result_file = \"/content/Social_network_Ads_result.csv\"\n",
        "\n",
        "# writing to csv file \n",
        "with open(result_file, 'w') as f: \n",
        "    # creating a csv writer object \n",
        "    csvwriter = csv.writer(f) \n",
        "        \n",
        "    # writing the fields \n",
        "    csvwriter.writerow(fields) \n",
        "        \n",
        "    # writing the data rows \n",
        "    csvwriter.writerows(rows)"
      ],
      "execution_count": null,
      "outputs": []
    },
    {
      "cell_type": "code",
      "metadata": {
        "colab": {
          "base_uri": "https://localhost:8080/",
          "height": 235
        },
        "id": "Brfwk0J6P52c",
        "outputId": "6fc983c1-c44a-4f50-eace-04182c95fa3f"
      },
      "source": [
        "pd.read_csv(result_file)"
      ],
      "execution_count": null,
      "outputs": [
        {
          "output_type": "execute_result",
          "data": {
            "text/html": [
              "<div>\n",
              "<style scoped>\n",
              "    .dataframe tbody tr th:only-of-type {\n",
              "        vertical-align: middle;\n",
              "    }\n",
              "\n",
              "    .dataframe tbody tr th {\n",
              "        vertical-align: top;\n",
              "    }\n",
              "\n",
              "    .dataframe thead th {\n",
              "        text-align: right;\n",
              "    }\n",
              "</style>\n",
              "<table border=\"1\" class=\"dataframe\">\n",
              "  <thead>\n",
              "    <tr style=\"text-align: right;\">\n",
              "      <th></th>\n",
              "      <th>Model Name</th>\n",
              "      <th>Before PCA</th>\n",
              "      <th>After PCA(1)</th>\n",
              "      <th>After PCA(3)</th>\n",
              "    </tr>\n",
              "  </thead>\n",
              "  <tbody>\n",
              "    <tr>\n",
              "      <th>0</th>\n",
              "      <td>Logistic Regression</td>\n",
              "      <td>0.8050</td>\n",
              "      <td>0.8125</td>\n",
              "      <td>0.6550</td>\n",
              "    </tr>\n",
              "    <tr>\n",
              "      <th>1</th>\n",
              "      <td>Decision Tree</td>\n",
              "      <td>0.8550</td>\n",
              "      <td>0.7875</td>\n",
              "      <td>0.6525</td>\n",
              "    </tr>\n",
              "    <tr>\n",
              "      <th>2</th>\n",
              "      <td>KNN Classifier</td>\n",
              "      <td>0.8950</td>\n",
              "      <td>0.7675</td>\n",
              "      <td>0.6475</td>\n",
              "    </tr>\n",
              "    <tr>\n",
              "      <th>3</th>\n",
              "      <td>SVM</td>\n",
              "      <td>0.8075</td>\n",
              "      <td>0.8175</td>\n",
              "      <td>0.6700</td>\n",
              "    </tr>\n",
              "    <tr>\n",
              "      <th>4</th>\n",
              "      <td>Random Forest</td>\n",
              "      <td>0.8075</td>\n",
              "      <td>0.8175</td>\n",
              "      <td>0.6550</td>\n",
              "    </tr>\n",
              "    <tr>\n",
              "      <th>5</th>\n",
              "      <td>Naive Bayes</td>\n",
              "      <td>0.8575</td>\n",
              "      <td>0.8175</td>\n",
              "      <td>0.6600</td>\n",
              "    </tr>\n",
              "  </tbody>\n",
              "</table>\n",
              "</div>"
            ],
            "text/plain": [
              "            Model Name  Before PCA  After PCA(1)  After PCA(3)\n",
              "0  Logistic Regression      0.8050        0.8125        0.6550\n",
              "1        Decision Tree      0.8550        0.7875        0.6525\n",
              "2       KNN Classifier      0.8950        0.7675        0.6475\n",
              "3                  SVM      0.8075        0.8175        0.6700\n",
              "4        Random Forest      0.8075        0.8175        0.6550\n",
              "5          Naive Bayes      0.8575        0.8175        0.6600"
            ]
          },
          "metadata": {},
          "execution_count": 26
        }
      ]
    },
    {
      "cell_type": "markdown",
      "metadata": {
        "id": "mIcITKzTYKu9"
      },
      "source": [
        "# Wine"
      ]
    },
    {
      "cell_type": "code",
      "metadata": {
        "colab": {
          "base_uri": "https://localhost:8080/",
          "height": 224
        },
        "id": "kn_YNiIWYVHP",
        "outputId": "2d15fb7f-13a9-4dc7-d3b2-c90536c4b19d"
      },
      "source": [
        "# Load dữ liệu\n",
        "data = pd.read_csv(\"/content/Wine.csv\")\n",
        "data.head()"
      ],
      "execution_count": null,
      "outputs": [
        {
          "output_type": "execute_result",
          "data": {
            "text/html": [
              "<div>\n",
              "<style scoped>\n",
              "    .dataframe tbody tr th:only-of-type {\n",
              "        vertical-align: middle;\n",
              "    }\n",
              "\n",
              "    .dataframe tbody tr th {\n",
              "        vertical-align: top;\n",
              "    }\n",
              "\n",
              "    .dataframe thead th {\n",
              "        text-align: right;\n",
              "    }\n",
              "</style>\n",
              "<table border=\"1\" class=\"dataframe\">\n",
              "  <thead>\n",
              "    <tr style=\"text-align: right;\">\n",
              "      <th></th>\n",
              "      <th>Alcohol</th>\n",
              "      <th>Malic_Acid</th>\n",
              "      <th>Ash</th>\n",
              "      <th>Ash_Alcanity</th>\n",
              "      <th>Magnesium</th>\n",
              "      <th>Total_Phenols</th>\n",
              "      <th>Flavanoids</th>\n",
              "      <th>Nonflavanoid_Phenols</th>\n",
              "      <th>Proanthocyanins</th>\n",
              "      <th>Color_Intensity</th>\n",
              "      <th>Hue</th>\n",
              "      <th>OD280</th>\n",
              "      <th>Proline</th>\n",
              "      <th>Customer_Segment</th>\n",
              "    </tr>\n",
              "  </thead>\n",
              "  <tbody>\n",
              "    <tr>\n",
              "      <th>0</th>\n",
              "      <td>14.23</td>\n",
              "      <td>1.71</td>\n",
              "      <td>2.43</td>\n",
              "      <td>15.6</td>\n",
              "      <td>127</td>\n",
              "      <td>2.80</td>\n",
              "      <td>3.06</td>\n",
              "      <td>0.28</td>\n",
              "      <td>2.29</td>\n",
              "      <td>5.64</td>\n",
              "      <td>1.04</td>\n",
              "      <td>3.92</td>\n",
              "      <td>1065</td>\n",
              "      <td>1</td>\n",
              "    </tr>\n",
              "    <tr>\n",
              "      <th>1</th>\n",
              "      <td>13.20</td>\n",
              "      <td>1.78</td>\n",
              "      <td>2.14</td>\n",
              "      <td>11.2</td>\n",
              "      <td>100</td>\n",
              "      <td>2.65</td>\n",
              "      <td>2.76</td>\n",
              "      <td>0.26</td>\n",
              "      <td>1.28</td>\n",
              "      <td>4.38</td>\n",
              "      <td>1.05</td>\n",
              "      <td>3.40</td>\n",
              "      <td>1050</td>\n",
              "      <td>1</td>\n",
              "    </tr>\n",
              "    <tr>\n",
              "      <th>2</th>\n",
              "      <td>13.16</td>\n",
              "      <td>2.36</td>\n",
              "      <td>2.67</td>\n",
              "      <td>18.6</td>\n",
              "      <td>101</td>\n",
              "      <td>2.80</td>\n",
              "      <td>3.24</td>\n",
              "      <td>0.30</td>\n",
              "      <td>2.81</td>\n",
              "      <td>5.68</td>\n",
              "      <td>1.03</td>\n",
              "      <td>3.17</td>\n",
              "      <td>1185</td>\n",
              "      <td>1</td>\n",
              "    </tr>\n",
              "    <tr>\n",
              "      <th>3</th>\n",
              "      <td>14.37</td>\n",
              "      <td>1.95</td>\n",
              "      <td>2.50</td>\n",
              "      <td>16.8</td>\n",
              "      <td>113</td>\n",
              "      <td>3.85</td>\n",
              "      <td>3.49</td>\n",
              "      <td>0.24</td>\n",
              "      <td>2.18</td>\n",
              "      <td>7.80</td>\n",
              "      <td>0.86</td>\n",
              "      <td>3.45</td>\n",
              "      <td>1480</td>\n",
              "      <td>1</td>\n",
              "    </tr>\n",
              "    <tr>\n",
              "      <th>4</th>\n",
              "      <td>13.24</td>\n",
              "      <td>2.59</td>\n",
              "      <td>2.87</td>\n",
              "      <td>21.0</td>\n",
              "      <td>118</td>\n",
              "      <td>2.80</td>\n",
              "      <td>2.69</td>\n",
              "      <td>0.39</td>\n",
              "      <td>1.82</td>\n",
              "      <td>4.32</td>\n",
              "      <td>1.04</td>\n",
              "      <td>2.93</td>\n",
              "      <td>735</td>\n",
              "      <td>1</td>\n",
              "    </tr>\n",
              "  </tbody>\n",
              "</table>\n",
              "</div>"
            ],
            "text/plain": [
              "   Alcohol  Malic_Acid   Ash  ...  OD280  Proline  Customer_Segment\n",
              "0    14.23        1.71  2.43  ...   3.92     1065                 1\n",
              "1    13.20        1.78  2.14  ...   3.40     1050                 1\n",
              "2    13.16        2.36  2.67  ...   3.17     1185                 1\n",
              "3    14.37        1.95  2.50  ...   3.45     1480                 1\n",
              "4    13.24        2.59  2.87  ...   2.93      735                 1\n",
              "\n",
              "[5 rows x 14 columns]"
            ]
          },
          "metadata": {},
          "execution_count": 4
        }
      ]
    },
    {
      "cell_type": "code",
      "metadata": {
        "id": "UfaBe6nUZGX9"
      },
      "source": [
        "X = data.iloc[:, :13]\n",
        "y = data.iloc[:, 13]"
      ],
      "execution_count": null,
      "outputs": []
    },
    {
      "cell_type": "code",
      "metadata": {
        "id": "H9-qepXiYVHa"
      },
      "source": [
        "# models\n",
        "models = ['Logistic Regression', 'Decision Tree', 'KNN Classifier', 'SVM', \n",
        "          'Random Forest', 'Naive Bayes']\n",
        "# scores before pca\n",
        "scores_0 = []   \n",
        "# scores after pca (method 1)\n",
        "scores_1 = []\n",
        "# scores after pca (method 3)\n",
        "scores_2 = []"
      ],
      "execution_count": null,
      "outputs": []
    },
    {
      "cell_type": "code",
      "metadata": {
        "id": "hBFzIu9uYVHa"
      },
      "source": [
        "# preprocessing\n",
        "scaler = MinMaxScaler(feature_range=(0, 1))\n",
        "X = scaler.fit_transform(X)"
      ],
      "execution_count": null,
      "outputs": []
    },
    {
      "cell_type": "code",
      "metadata": {
        "id": "I1VLqncXYVHa"
      },
      "source": [
        "# prepare the cross-validation procedure\n",
        "kfold = KFold(n_splits=5, shuffle= False)"
      ],
      "execution_count": null,
      "outputs": []
    },
    {
      "cell_type": "markdown",
      "metadata": {
        "id": "PTJM2r72YVHb"
      },
      "source": [
        "### Create and evaluate models"
      ]
    },
    {
      "cell_type": "code",
      "metadata": {
        "id": "zgSdIWWlYVHb"
      },
      "source": [
        "# logistic regression\n",
        "logistic_model = LogisticRegression()\n",
        "logistic_score = cross_val_score(logistic_model, X, y, scoring='accuracy', cv=kfold).mean()\n",
        "scores_0.append(logistic_score)"
      ],
      "execution_count": null,
      "outputs": []
    },
    {
      "cell_type": "code",
      "metadata": {
        "id": "Utgx-OYdYVHb"
      },
      "source": [
        "# Decision Tree\n",
        "tree_model = tree.DecisionTreeClassifier()\n",
        "tree_score = cross_val_score(tree_model, X, y, scoring='accuracy', cv=kfold).mean()\n",
        "scores_0.append(tree_score)"
      ],
      "execution_count": null,
      "outputs": []
    },
    {
      "cell_type": "code",
      "metadata": {
        "id": "aszSJqW1YVHb"
      },
      "source": [
        "# KNN classifier\n",
        "knn_model = KNeighborsClassifier(n_neighbors = 3)\n",
        "knn_score = cross_val_score(knn_model, X, y, scoring='accuracy', cv=kfold).mean()\n",
        "scores_0.append(knn_score)"
      ],
      "execution_count": null,
      "outputs": []
    },
    {
      "cell_type": "code",
      "metadata": {
        "id": "d2s8bF8SYVHb"
      },
      "source": [
        "# SVM\n",
        "svm_model = svm.SVC(kernel='linear',C=1)\n",
        "svm_score = cross_val_score(svm_model, X, y, scoring='accuracy', cv=kfold).mean()\n",
        "scores_0.append(svm_score)"
      ],
      "execution_count": null,
      "outputs": []
    },
    {
      "cell_type": "code",
      "metadata": {
        "id": "cueFPeXEYVHc"
      },
      "source": [
        "# Random Forest \n",
        "forest_model = RandomForestClassifier(n_estimators = 10)\n",
        "forest_score = cross_val_score(svm_model, X, y, scoring='accuracy', cv=kfold).mean()\n",
        "scores_0.append(forest_score)"
      ],
      "execution_count": null,
      "outputs": []
    },
    {
      "cell_type": "code",
      "metadata": {
        "id": "H7FtwvzUYVHc"
      },
      "source": [
        "# Naive Bayes\n",
        "NB_model = GaussianNB()\n",
        "NB_score = cross_val_score(NB_model, X, y, scoring='accuracy', cv=kfold).mean()\n",
        "scores_0.append(NB_score)"
      ],
      "execution_count": null,
      "outputs": []
    },
    {
      "cell_type": "markdown",
      "metadata": {
        "id": "1sN2WHcEYVHc"
      },
      "source": [
        "## PCA over all the dataset (Method 1)\n"
      ]
    },
    {
      "cell_type": "code",
      "metadata": {
        "id": "3_3ZJbZUYVHc"
      },
      "source": [
        "# preprocessing with pca\n",
        "pca = PCA(n_components=8)\n",
        "pX = pca.fit_transform(X)"
      ],
      "execution_count": null,
      "outputs": []
    },
    {
      "cell_type": "markdown",
      "metadata": {
        "id": "j_JaIGSgYVHc"
      },
      "source": [
        "### Create and evaluate models"
      ]
    },
    {
      "cell_type": "code",
      "metadata": {
        "id": "2N1eWIxgYVHd"
      },
      "source": [
        "# logistic regression\n",
        "logistic_model = LogisticRegression()\n",
        "logistic_score = cross_val_score(logistic_model, pX, y, scoring='accuracy', cv=kfold).mean()\n",
        "scores_1.append(logistic_score)"
      ],
      "execution_count": null,
      "outputs": []
    },
    {
      "cell_type": "code",
      "metadata": {
        "id": "v02YLuu7YVHd"
      },
      "source": [
        "# Decision Tree\n",
        "tree_model = tree.DecisionTreeClassifier()\n",
        "tree_score = cross_val_score(tree_model, pX, y, scoring='accuracy', cv=kfold).mean()\n",
        "scores_1.append(tree_score)"
      ],
      "execution_count": null,
      "outputs": []
    },
    {
      "cell_type": "code",
      "metadata": {
        "id": "IFpMHDejYVHd"
      },
      "source": [
        "# KNN classifier\n",
        "knn_model = KNeighborsClassifier(n_neighbors = 3)\n",
        "knn_score = cross_val_score(knn_model, pX, y, scoring='accuracy', cv=kfold).mean()\n",
        "scores_1.append(knn_score)"
      ],
      "execution_count": null,
      "outputs": []
    },
    {
      "cell_type": "code",
      "metadata": {
        "id": "cOM2PhQBYVHd"
      },
      "source": [
        "# SVM\n",
        "svm_model = svm.SVC(kernel='linear',C=1)\n",
        "svm_score = cross_val_score(svm_model, pX, y, scoring='accuracy', cv=kfold).mean()\n",
        "scores_1.append(svm_score)"
      ],
      "execution_count": null,
      "outputs": []
    },
    {
      "cell_type": "code",
      "metadata": {
        "id": "spAXyMhmYVHd"
      },
      "source": [
        "# Random Forest \n",
        "forest_model = RandomForestClassifier(n_estimators = 10)\n",
        "forest_score = cross_val_score(svm_model, pX, y, scoring='accuracy', cv=kfold).mean()\n",
        "scores_1.append(forest_score)"
      ],
      "execution_count": null,
      "outputs": []
    },
    {
      "cell_type": "code",
      "metadata": {
        "id": "UQfCQPhwYVHe"
      },
      "source": [
        "# Naive Bayes\n",
        "NB_model = GaussianNB()\n",
        "NB_score = cross_val_score(NB_model, pX, y, scoring='accuracy', cv=kfold).mean()\n",
        "scores_1.append(NB_score)"
      ],
      "execution_count": null,
      "outputs": []
    },
    {
      "cell_type": "markdown",
      "metadata": {
        "id": "uOmUxualYVHe"
      },
      "source": [
        "## PCA train and test data separately (Method 3)"
      ]
    },
    {
      "cell_type": "code",
      "metadata": {
        "id": "C5ntY_k-YVHe"
      },
      "source": [
        "from sklearn.metrics import accuracy_score\n",
        "\n",
        "def train_models(X_train, X_test, y_train, y_test):\n",
        "    scores = []\n",
        "\n",
        "    # logistic regression\n",
        "    lr = LogisticRegression()\n",
        "    lr.fit(X_train, y_train)\n",
        "    y_pred = lr.predict(X_test)\n",
        "    scores.append(accuracy_score(y_test, y_pred))\n",
        "\n",
        "    # decision tree\n",
        "    dt = tree.DecisionTreeClassifier()\n",
        "    dt.fit(X_train, y_train)\n",
        "    y_pred = dt.predict(X_test)\n",
        "    scores.append(accuracy_score(y_test, y_pred))\n",
        "\n",
        "    # KNN classifier\n",
        "    knn = KNeighborsClassifier(n_neighbors = 3)\n",
        "    knn.fit(X_train, y_train)\n",
        "    y_pred = knn.predict(X_test)\n",
        "    scores.append(accuracy_score(y_test, y_pred))\n",
        "\n",
        "    # SVM\n",
        "    svc = svm.SVC(kernel='linear', C=1)\n",
        "    svc.fit(X_train, y_train)\n",
        "    y_pred = svc.predict(X_test)\n",
        "    scores.append(accuracy_score(y_test, y_pred))\n",
        "\n",
        "    # random forest\n",
        "    rf = RandomForestClassifier(n_estimators = 10)\n",
        "    rf.fit(X_train, y_train)\n",
        "    y_pred = rf.predict(X_test)\n",
        "    scores.append(accuracy_score(y_test, y_pred))\n",
        "\n",
        "    # naive bayes\n",
        "    nb = GaussianNB()\n",
        "    nb.fit(X_train, y_train)\n",
        "    y_pred = nb.predict(X_test)\n",
        "    scores.append(accuracy_score(y_test, y_pred))\n",
        "\n",
        "    return scores"
      ],
      "execution_count": null,
      "outputs": []
    },
    {
      "cell_type": "code",
      "metadata": {
        "id": "muiHgeTYYVHe"
      },
      "source": [
        "pca = PCA(n_components=12)\n",
        "\n",
        "scores = [[] for i in range(len(models))]\n",
        "for train_index, test_index in kfold.split(X):\n",
        "    # divide data in correlation with fold\n",
        "    X_train, X_test = X[train_index], X[test_index]\n",
        "    y_train, y_test = y[train_index], y[test_index]\n",
        "\n",
        "    # pca train and test individually\n",
        "    X_train = pca.fit_transform(X_train)\n",
        "    X_test = pca.fit_transform(X_test)\n",
        "\n",
        "    # get model scores for this fold\n",
        "    score = train_models(X_train, X_test, y_train, y_test)\n",
        "\n",
        "    for k, score0 in enumerate(score):\n",
        "        scores[k].append(score0)\n",
        "\n",
        "for score in scores:\n",
        "    scores_2.append(np.mean(score))"
      ],
      "execution_count": null,
      "outputs": []
    },
    {
      "cell_type": "markdown",
      "metadata": {
        "id": "-ww-sDQyYVHf"
      },
      "source": [
        "## Comparisons output"
      ]
    },
    {
      "cell_type": "code",
      "metadata": {
        "id": "O7L1AQnXYVHf"
      },
      "source": [
        "import csv\n",
        "\n",
        "# field names\n",
        "fields = ['Model Name', 'Before PCA', 'After PCA(1)', 'After PCA(3)']\n",
        "\n",
        "# data rows\n",
        "rows = []\n",
        "for k, model in enumerate(models):\n",
        "    row = [model, scores_0[k], scores_1[k], scores_2[k]]\n",
        "    rows.append(row)\n",
        "\n",
        "# name of csv file \n",
        "result_file = \"/content/Wine_result.csv\"\n",
        "\n",
        "# writing to csv file \n",
        "with open(result_file, 'w') as f: \n",
        "    # creating a csv writer object \n",
        "    csvwriter = csv.writer(f) \n",
        "        \n",
        "    # writing the fields \n",
        "    csvwriter.writerow(fields) \n",
        "        \n",
        "    # writing the data rows \n",
        "    csvwriter.writerows(rows)"
      ],
      "execution_count": null,
      "outputs": []
    },
    {
      "cell_type": "code",
      "metadata": {
        "colab": {
          "base_uri": "https://localhost:8080/",
          "height": 235
        },
        "id": "fHmdh7bwYVHf",
        "outputId": "5261bb38-3ec5-4272-9348-374c4b5e487f"
      },
      "source": [
        "pd.read_csv(result_file)"
      ],
      "execution_count": null,
      "outputs": [
        {
          "output_type": "execute_result",
          "data": {
            "text/html": [
              "<div>\n",
              "<style scoped>\n",
              "    .dataframe tbody tr th:only-of-type {\n",
              "        vertical-align: middle;\n",
              "    }\n",
              "\n",
              "    .dataframe tbody tr th {\n",
              "        vertical-align: top;\n",
              "    }\n",
              "\n",
              "    .dataframe thead th {\n",
              "        text-align: right;\n",
              "    }\n",
              "</style>\n",
              "<table border=\"1\" class=\"dataframe\">\n",
              "  <thead>\n",
              "    <tr style=\"text-align: right;\">\n",
              "      <th></th>\n",
              "      <th>Model Name</th>\n",
              "      <th>Before PCA</th>\n",
              "      <th>After PCA(1)</th>\n",
              "      <th>After PCA(3)</th>\n",
              "    </tr>\n",
              "  </thead>\n",
              "  <tbody>\n",
              "    <tr>\n",
              "      <th>0</th>\n",
              "      <td>Logistic Regression</td>\n",
              "      <td>0.916190</td>\n",
              "      <td>0.916190</td>\n",
              "      <td>0.129206</td>\n",
              "    </tr>\n",
              "    <tr>\n",
              "      <th>1</th>\n",
              "      <td>Decision Tree</td>\n",
              "      <td>0.791587</td>\n",
              "      <td>0.903810</td>\n",
              "      <td>0.257143</td>\n",
              "    </tr>\n",
              "    <tr>\n",
              "      <th>2</th>\n",
              "      <td>KNN Classifier</td>\n",
              "      <td>0.904603</td>\n",
              "      <td>0.910159</td>\n",
              "      <td>0.201746</td>\n",
              "    </tr>\n",
              "    <tr>\n",
              "      <th>3</th>\n",
              "      <td>SVM</td>\n",
              "      <td>0.944127</td>\n",
              "      <td>0.933016</td>\n",
              "      <td>0.146349</td>\n",
              "    </tr>\n",
              "    <tr>\n",
              "      <th>4</th>\n",
              "      <td>Random Forest</td>\n",
              "      <td>0.944127</td>\n",
              "      <td>0.933016</td>\n",
              "      <td>0.212857</td>\n",
              "    </tr>\n",
              "    <tr>\n",
              "      <th>5</th>\n",
              "      <td>Naive Bayes</td>\n",
              "      <td>0.932698</td>\n",
              "      <td>0.863492</td>\n",
              "      <td>0.207143</td>\n",
              "    </tr>\n",
              "  </tbody>\n",
              "</table>\n",
              "</div>"
            ],
            "text/plain": [
              "            Model Name  Before PCA  After PCA(1)  After PCA(3)\n",
              "0  Logistic Regression    0.916190      0.916190      0.129206\n",
              "1        Decision Tree    0.791587      0.903810      0.257143\n",
              "2       KNN Classifier    0.904603      0.910159      0.201746\n",
              "3                  SVM    0.944127      0.933016      0.146349\n",
              "4        Random Forest    0.944127      0.933016      0.212857\n",
              "5          Naive Bayes    0.932698      0.863492      0.207143"
            ]
          },
          "metadata": {},
          "execution_count": 26
        }
      ]
    }
  ]
}